{
 "cells": [
  {
   "cell_type": "code",
   "execution_count": 1,
   "metadata": {},
   "outputs": [],
   "source": [
    "import torch\n",
    "import torch.nn as nn"
   ]
  },
  {
   "cell_type": "code",
   "execution_count": 3,
   "metadata": {},
   "outputs": [
    {
     "name": "stdout",
     "output_type": "stream",
     "text": [
      "torch.Size([20, 33, 101, 201])\n"
     ]
    }
   ],
   "source": [
    "m = nn.ConvTranspose2d(16, 33, 3, stride=2)\n",
    "input = torch.randn(20, 16, 50, 100)\n",
    "output = m(input)\n",
    "print(output.shape)"
   ]
  },
  {
   "cell_type": "code",
   "execution_count": 33,
   "metadata": {},
   "outputs": [],
   "source": [
    "class generator(nn.Module):\n",
    "    def __init__(self, in_features):\n",
    "        super(generator, self).__init__()\n",
    "        self.dconv1 = nn.ConvTranspose2d(in_features, 1024, kernel_size=4, stride=1)\n",
    "        self.dconv2 = nn.ConvTranspose2d(1024, 512, kernel_size=2, stride=2)\n",
    "        self.dconv3 = nn.ConvTranspose2d(512, 256, kernel_size=2, stride=2)\n",
    "        self.dconv4 = nn.ConvTranspose2d(256, 128, kernel_size=2, stride=2)\n",
    "        self.dconv5 = nn.ConvTranspose2d(128, 3, kernel_size=2, stride=2)\n",
    "        self.bn1 = nn.BatchNorm2d(1024)\n",
    "        self.bn2 = nn.BatchNorm2d(512)\n",
    "        self.bn3 = nn.BatchNorm2d(256)\n",
    "        self.bn4 = nn.BatchNorm2d(128)\n",
    "        self.relu=nn.ReLU()\n",
    "        self.tanh = nn.Tanh()\n",
    "\n",
    "    def forward(self, x):\n",
    "        x = self.relu(self.bn1(self.dconv1(x)))\n",
    "        x = self.relu(self.bn2(self.dconv2(x)))\n",
    "        x = self.relu(self.bn3(self.dconv3(x)))\n",
    "        x = self.relu(self.bn4(self.dconv4(x)))\n",
    "        x = self.tanh(self.dconv5(x))\n",
    "        return x"
   ]
  },
  {
   "cell_type": "code",
   "execution_count": 34,
   "metadata": {},
   "outputs": [
    {
     "name": "stdout",
     "output_type": "stream",
     "text": [
      "torch.Size([1, 3, 64, 64])\n"
     ]
    }
   ],
   "source": [
    "model = generator(in_features=100)\n",
    "input = torch.randn(1, 100, 1, 1)\n",
    "output = model(input)\n",
    "print(output.shape)"
   ]
  }
 ],
 "metadata": {
  "kernelspec": {
   "display_name": "Python 3.8.12 ('mods')",
   "language": "python",
   "name": "python3"
  },
  "language_info": {
   "codemirror_mode": {
    "name": "ipython",
    "version": 3
   },
   "file_extension": ".py",
   "mimetype": "text/x-python",
   "name": "python",
   "nbconvert_exporter": "python",
   "pygments_lexer": "ipython3",
   "version": "3.8.12"
  },
  "orig_nbformat": 4,
  "vscode": {
   "interpreter": {
    "hash": "a9e8783e9d27a1e9de3474271db252484b6a979f6d8007061087fa3c7c215345"
   }
  }
 },
 "nbformat": 4,
 "nbformat_minor": 2
}
